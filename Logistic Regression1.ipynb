{
 "cells": [
  {
   "cell_type": "code",
   "execution_count": 4,
   "metadata": {},
   "outputs": [
    {
     "name": "stdout",
     "output_type": "stream",
     "text": [
      "-0.010951584332789931\n",
      "-0.03446944258485558\n"
     ]
    },
    {
     "data": {
      "image/png": "[encoded data removed]",
      "text/plain": [
       "<Figure size 432x288 with 1 Axes>"
      ]
     },
     "metadata": {},
     "output_type": "display_data"
    }
   ],
   "source": [
    "import numpy as np\n",
    "import matplotlib.pyplot as plt\n",
    "sample_size = 100\n",
    "x = np.linspace(0.0,100,sample_size)\n",
    "y1=np.zeros(50).reshape(1,50)\n",
    "y2=np.ones(50).reshape(1,50)\n",
    "noise=np.random.randn(100)\n",
    "true_value=np.concatenate((y1,y2),axis=1)\n",
    "x_data=noise+x\n",
    "x_data=(x_data-min(x_data))/(max(x_data)-min(x_data))\n",
    "plt.scatter(x_data,true_value)\n",
    "m=np.random.randn()\n",
    "b=np.random.randn()\n",
    "\n",
    "parameter=np.array([b,m]).reshape(1,2)\n",
    "x1=np.ones(100)\n",
    "final_matrix=np.concatenate((x1,x_data),axis=0).reshape(2,100)\n",
    "y=np.array(parameter.dot(final_matrix))\n",
    "\n",
    "for i,value in enumerate(y): \n",
    "    hypo_func=np.array([1/(1+np.exp(-value))])\n",
    "        \n",
    "cost_func=(np.array(-1/200*(true_value*np.log(hypo_func)+(1-true_value)*np.log(1-hypo_func))))\n",
    "j=np.sum(cost_func)\n",
    "a=0.0001\n",
    "while(True):\n",
    "    b1=b-a*1/200*np.sum(true_value-hypo_func)\n",
    "    m1=m-a*1/200*np.sum(true_value-hypo_func)\n",
    "    p1=np.array([b1,m1])\n",
    "    y3=np.array(p1.dot(final_matrix))\n",
    "    for i,value in enumerate(y3): \n",
    "        hypo_func2=np.array([1/(1+np.exp(-value))])\n",
    "        \n",
    "    cost_func1=(np.array(-1/200*(true_value*np.log(hypo_func)+(1-true_value)*np.log(1-hypo_func))))\n",
    "    j1=np.sum(cost_func)\n",
    "    if abs(j1-j)<0.00000001:\n",
    "        break\n",
    "    else:\n",
    "        b=b1\n",
    "        m=m1\n",
    "print(m1)\n",
    "print(b1)"
   ]
  },
  {
   "cell_type": "code",
   "execution_count": null,
   "metadata": {},
   "outputs": [],
   "source": []
  },
  {
   "cell_type": "code",
   "execution_count": null,
   "metadata": {},
   "outputs": [],
   "source": []
  }
 ],
 "metadata": {
  "kernelspec": {
   "display_name": "Python 3",
   "language": "python",
   "name": "python3"
  }
 },
 "nbformat": 4,
 "nbformat_minor": 2
}
